{
 "cells": [
  {
   "cell_type": "code",
   "execution_count": 1,
   "metadata": {},
   "outputs": [],
   "source": [
    "import jax\n",
    "import jax.numpy as jnp"
   ]
  },
  {
   "cell_type": "code",
   "execution_count": 2,
   "metadata": {},
   "outputs": [
    {
     "name": "stderr",
     "output_type": "stream",
     "text": [
      "An NVIDIA GPU may be present on this machine, but a CUDA-enabled jaxlib is not installed. Falling back to cpu.\n"
     ]
    }
   ],
   "source": [
    "# Input\n",
    "X = jnp.array([[1.,2.,1.], [0.,3.,2.], [1.,0.,1.]])\n",
    "\n",
    "# Parameters\n",
    "K = jnp.array([[1.,0.], [0.,-1.]])\n",
    "W_Q = jnp.array([[1.,0.], [-1.,0.]])\n",
    "W_K = jnp.array([[1.,1.], [1.,1.]])\n",
    "W_V = jnp.array([[1.,0.], [0., 1.]])\n",
    "W = jnp.array([-1.,1.,0.,1.])\n",
    "b = 2.0\n",
    "y = 4"
   ]
  },
  {
   "cell_type": "code",
   "execution_count": 3,
   "metadata": {},
   "outputs": [],
   "source": [
    "def forward_pass(K, W_Q, W_K, W_V, W, b, p=False):\n",
    "    # Input\n",
    "    X = jnp.array([[1,2,1], [0,3,2], [1,0,1]])\n",
    "    y = 4\n",
    "\n",
    "    conv_out = jax.scipy.signal.correlate2d(X, K, 'valid')\n",
    "    if p: print('conv_out:', conv_out)\n",
    "\n",
    "    Q = jnp.dot(conv_out, W_Q)\n",
    "    if p: print('Q:', Q)\n",
    "    K = jnp.dot(conv_out, W_K)\n",
    "    if p: print('K:', K)\n",
    "    V = jnp.dot(conv_out, W_V)\n",
    "    if p: print('V:', V)\n",
    "\n",
    "    att_scores = jnp.dot(Q, jnp.transpose(K))\n",
    "    if p: print('Attention scores:', att_scores)\n",
    "    \n",
    "    att_weights = jax.nn.softmax(att_scores, axis=0)\n",
    "    if p: print('Attention weights:', att_weights)\n",
    "    \n",
    "    att_out = jnp.dot(att_weights, V)\n",
    "    if p: print('Attention out:', att_out)\n",
    "\n",
    "    fc_in = att_out.ravel()\n",
    "    if p: print('FC in:', fc_in)\n",
    "\n",
    "    fc_out = jnp.dot(W, fc_in) + b\n",
    "    if p: print('FC out:', fc_out)\n",
    "\n",
    "    loss = 0.5 * (y - fc_out) ** 2\n",
    "    if p: print('Loss:', loss)\n",
    "    return loss    "
   ]
  },
  {
   "cell_type": "code",
   "execution_count": 4,
   "metadata": {},
   "outputs": [
    {
     "name": "stdout",
     "output_type": "stream",
     "text": [
      "conv_out: [[-2.  0.]\n",
      " [ 0.  2.]]\n",
      "Q: [[-2.  0.]\n",
      " [-2.  0.]]\n",
      "K: [[-2. -2.]\n",
      " [ 2.  2.]]\n",
      "V: [[-2.  0.]\n",
      " [ 0.  2.]]\n",
      "Attention scores: [[ 4. -4.]\n",
      " [ 4. -4.]]\n",
      "Attention weights: [[0.5 0.5]\n",
      " [0.5 0.5]]\n",
      "Attention out: [[-1.  1.]\n",
      " [-1.  1.]]\n",
      "FC in: [-1.  1. -1.  1.]\n",
      "FC out: 5.0\n",
      "Loss: 0.5\n"
     ]
    },
    {
     "data": {
      "text/plain": [
       "Array(0.5, dtype=float32)"
      ]
     },
     "execution_count": 4,
     "metadata": {},
     "output_type": "execute_result"
    }
   ],
   "source": [
    "forward_pass(K, W_Q, W_K, W_V, W, b, p=True)"
   ]
  },
  {
   "cell_type": "code",
   "execution_count": 5,
   "metadata": {},
   "outputs": [
    {
     "data": {
      "text/plain": [
       "(Array([[ 2.5,  0.5],\n",
       "        [ 6.5, -0.5]], dtype=float32),\n",
       " Array([[2., 2.],\n",
       "        [2., 2.]], dtype=float32),\n",
       " Array([[0., 0.],\n",
       "        [0., 0.]], dtype=float32),\n",
       " Array([[ 1., -2.],\n",
       "        [-1.,  2.]], dtype=float32),\n",
       " Array([-1.,  1., -1.,  1.], dtype=float32),\n",
       " Array(1., dtype=float32, weak_type=True))"
      ]
     },
     "execution_count": 5,
     "metadata": {},
     "output_type": "execute_result"
    }
   ],
   "source": [
    "jax.grad(forward_pass, (0,1,2,3,4,5))(K, W_Q, W_K, W_V, W, b)"
   ]
  },
  {
   "cell_type": "markdown",
   "metadata": {},
   "source": [
    "## Forward pass"
   ]
  },
  {
   "cell_type": "code",
   "execution_count": 6,
   "metadata": {},
   "outputs": [
    {
     "data": {
      "text/plain": [
       "Array([[ 0.25,  0.  , -0.25,  0.  ],\n",
       "       [ 0.  ,  0.25,  0.  , -0.25],\n",
       "       [-0.25,  0.  ,  0.25,  0.  ],\n",
       "       [ 0.  , -0.25,  0.  ,  0.25]], dtype=float32)"
      ]
     },
     "execution_count": 6,
     "metadata": {},
     "output_type": "execute_result"
    }
   ],
   "source": [
    "jax.jacobian(jax.nn.softmax, 0)(jnp.array([[4.,-4.], [4., -4.]]), axis=0).reshape(4,4)"
   ]
  },
  {
   "cell_type": "markdown",
   "metadata": {},
   "source": [
    "#### CNN"
   ]
  },
  {
   "cell_type": "code",
   "execution_count": 7,
   "metadata": {},
   "outputs": [
    {
     "data": {
      "text/plain": [
       "Array([[-2.,  0.],\n",
       "       [ 0.,  2.]], dtype=float32)"
      ]
     },
     "execution_count": 7,
     "metadata": {},
     "output_type": "execute_result"
    }
   ],
   "source": [
    "# Forward pass\n",
    "conv_out = jax.scipy.signal.correlate2d(X, K, 'valid')\n",
    "conv_out"
   ]
  },
  {
   "cell_type": "code",
   "execution_count": 8,
   "metadata": {},
   "outputs": [],
   "source": [
    "# # Conv2D\n",
    "# conv_out = np.zeros((2,2))\n",
    "# for i in range(2):\n",
    "#     for j in range(2):\n",
    "#         conv_out[i, j] = sum(X[i + m, j + n] * K[m, n] for m in range(K.shape[0]) for n in range(K.shape[1]))"
   ]
  },
  {
   "cell_type": "markdown",
   "metadata": {},
   "source": [
    "#### Attention"
   ]
  },
  {
   "cell_type": "code",
   "execution_count": 9,
   "metadata": {},
   "outputs": [
    {
     "data": {
      "text/plain": [
       "Array([[-2.,  0.],\n",
       "       [-2.,  0.]], dtype=float32)"
      ]
     },
     "execution_count": 9,
     "metadata": {},
     "output_type": "execute_result"
    }
   ],
   "source": [
    "Q = conv_out @ W_Q\n",
    "Q"
   ]
  },
  {
   "cell_type": "code",
   "execution_count": 10,
   "metadata": {},
   "outputs": [
    {
     "data": {
      "text/plain": [
       "Array([[-2., -2.],\n",
       "       [ 2.,  2.]], dtype=float32)"
      ]
     },
     "execution_count": 10,
     "metadata": {},
     "output_type": "execute_result"
    }
   ],
   "source": [
    "K = conv_out @ W_K\n",
    "K"
   ]
  },
  {
   "cell_type": "code",
   "execution_count": 11,
   "metadata": {},
   "outputs": [
    {
     "data": {
      "text/plain": [
       "Array([[-2.,  0.],\n",
       "       [ 0.,  2.]], dtype=float32)"
      ]
     },
     "execution_count": 11,
     "metadata": {},
     "output_type": "execute_result"
    }
   ],
   "source": [
    "V = conv_out @ W_V\n",
    "V"
   ]
  },
  {
   "cell_type": "code",
   "execution_count": 12,
   "metadata": {},
   "outputs": [],
   "source": [
    "def softmax(x):\n",
    "    return jnp.exp(x) / sum(jnp.exp(x))"
   ]
  },
  {
   "cell_type": "code",
   "execution_count": 13,
   "metadata": {},
   "outputs": [
    {
     "data": {
      "text/plain": [
       "Array([[ 4., -4.],\n",
       "       [ 4., -4.]], dtype=float32)"
      ]
     },
     "execution_count": 13,
     "metadata": {},
     "output_type": "execute_result"
    }
   ],
   "source": [
    "Q @ K.T"
   ]
  },
  {
   "cell_type": "code",
   "execution_count": 14,
   "metadata": {},
   "outputs": [
    {
     "data": {
      "text/plain": [
       "Array([[-1.,  1.],\n",
       "       [-1.,  1.]], dtype=float32)"
      ]
     },
     "execution_count": 14,
     "metadata": {},
     "output_type": "execute_result"
    }
   ],
   "source": [
    "att_out = softmax(Q @ K.T) @ V\n",
    "att_out"
   ]
  },
  {
   "cell_type": "markdown",
   "metadata": {},
   "source": [
    "#### Fully connected"
   ]
  },
  {
   "cell_type": "code",
   "execution_count": 15,
   "metadata": {},
   "outputs": [
    {
     "data": {
      "text/plain": [
       "Array([-1.,  1., -1.,  1.], dtype=float32)"
      ]
     },
     "execution_count": 15,
     "metadata": {},
     "output_type": "execute_result"
    }
   ],
   "source": [
    "# Flatten\n",
    "fc_in = att_out.flatten()\n",
    "fc_in"
   ]
  },
  {
   "cell_type": "code",
   "execution_count": 16,
   "metadata": {},
   "outputs": [
    {
     "data": {
      "text/plain": [
       "Array(5., dtype=float32)"
      ]
     },
     "execution_count": 16,
     "metadata": {},
     "output_type": "execute_result"
    }
   ],
   "source": [
    "fc_out = W @ fc_in + b\n",
    "fc_out"
   ]
  },
  {
   "cell_type": "code",
   "execution_count": 17,
   "metadata": {},
   "outputs": [
    {
     "data": {
      "text/plain": [
       "Array(0.5, dtype=float32)"
      ]
     },
     "execution_count": 17,
     "metadata": {},
     "output_type": "execute_result"
    }
   ],
   "source": [
    "# Loss\n",
    "loss = 0.5 * (y - fc_out) ** 2\n",
    "loss"
   ]
  },
  {
   "cell_type": "markdown",
   "metadata": {},
   "source": [
    "## Backward pass"
   ]
  },
  {
   "cell_type": "markdown",
   "metadata": {},
   "source": [
    "#### Fully connected"
   ]
  },
  {
   "cell_type": "code",
   "execution_count": 18,
   "metadata": {},
   "outputs": [
    {
     "data": {
      "text/plain": [
       "Array(1., dtype=float32)"
      ]
     },
     "execution_count": 18,
     "metadata": {},
     "output_type": "execute_result"
    }
   ],
   "source": [
    "dL_dfc = - (y - fc_out)\n",
    "dL_dfc"
   ]
  },
  {
   "cell_type": "code",
   "execution_count": 19,
   "metadata": {},
   "outputs": [
    {
     "data": {
      "text/plain": [
       "Array([-1.,  1., -1.,  1.], dtype=float32)"
      ]
     },
     "execution_count": 19,
     "metadata": {},
     "output_type": "execute_result"
    }
   ],
   "source": [
    "dL_dw = dL_dfc * fc_in\n",
    "dL_dw"
   ]
  },
  {
   "cell_type": "code",
   "execution_count": 20,
   "metadata": {},
   "outputs": [
    {
     "data": {
      "text/plain": [
       "Array(1., dtype=float32)"
      ]
     },
     "execution_count": 20,
     "metadata": {},
     "output_type": "execute_result"
    }
   ],
   "source": [
    "dL_db = dL_dfc\n",
    "dL_db"
   ]
  },
  {
   "cell_type": "markdown",
   "metadata": {},
   "source": [
    "#### Attention"
   ]
  },
  {
   "cell_type": "code",
   "execution_count": 21,
   "metadata": {},
   "outputs": [
    {
     "data": {
      "text/plain": [
       "Array([[-1.,  1.],\n",
       "       [ 0.,  1.]], dtype=float32)"
      ]
     },
     "execution_count": 21,
     "metadata": {},
     "output_type": "execute_result"
    }
   ],
   "source": [
    "dL_dat = (dL_dfc * W.T).reshape(2,2)\n",
    "dL_dat"
   ]
  },
  {
   "cell_type": "code",
   "execution_count": 22,
   "metadata": {},
   "outputs": [
    {
     "data": {
      "text/plain": [
       "Array([[ 1., -2.],\n",
       "       [-1.,  2.]], dtype=float32)"
      ]
     },
     "execution_count": 22,
     "metadata": {},
     "output_type": "execute_result"
    }
   ],
   "source": [
    "P = softmax(Q @ K.T)\n",
    "dL_dV = P @ dL_dat\n",
    "dL_dW_V = conv_out @ dL_dV\n",
    "dL_dW_V"
   ]
  },
  {
   "cell_type": "code",
   "execution_count": 23,
   "metadata": {},
   "outputs": [],
   "source": [
    "dL_daw = dL_dat @ V.T"
   ]
  },
  {
   "cell_type": "code",
   "execution_count": 24,
   "metadata": {},
   "outputs": [],
   "source": [
    "grad_softmax = jax.jacobian(jax.nn.softmax, 0)(Q @ K.T, axis=0).reshape(4,4)\n",
    "dL_das = (grad_softmax @ dL_daw.ravel()).reshape(2,2)"
   ]
  },
  {
   "cell_type": "code",
   "execution_count": 25,
   "metadata": {},
   "outputs": [
    {
     "data": {
      "text/plain": [
       "Array([[ 0.5,  0. ],\n",
       "       [-0.5,  0. ]], dtype=float32)"
      ]
     },
     "execution_count": 25,
     "metadata": {},
     "output_type": "execute_result"
    }
   ],
   "source": [
    "dL_das"
   ]
  },
  {
   "cell_type": "code",
   "execution_count": 26,
   "metadata": {},
   "outputs": [
    {
     "data": {
      "text/plain": [
       "Array([[ 0.25,  0.  , -0.25,  0.  ],\n",
       "       [ 0.  ,  0.25,  0.  , -0.25],\n",
       "       [-0.25,  0.  ,  0.25,  0.  ],\n",
       "       [ 0.  , -0.25,  0.  ,  0.25]], dtype=float32)"
      ]
     },
     "execution_count": 26,
     "metadata": {},
     "output_type": "execute_result"
    }
   ],
   "source": [
    "grad_softmax"
   ]
  },
  {
   "cell_type": "code",
   "execution_count": 27,
   "metadata": {},
   "outputs": [],
   "source": [
    "# grad_softmax = jnp.array([[[0.25, -0.25], [-0.25, 0.25]], [[0., 0.], [0., 0.]], [[0., 0.], [0., 0.]], [[0.25, -0.25], [-0.25, 0.25]]]).reshape(4,4)\n",
    "# dL_das = (grad_softmax @ dL_daw.ravel()).reshape(2,2)"
   ]
  },
  {
   "cell_type": "code",
   "execution_count": 28,
   "metadata": {},
   "outputs": [],
   "source": [
    "# grad_softmax = jnp.array([[0.25, -0.25], [-0.25, 0.25]])\n",
    "# dL_das = grad_softmax @ dL_daw"
   ]
  },
  {
   "cell_type": "code",
   "execution_count": 29,
   "metadata": {},
   "outputs": [
    {
     "data": {
      "text/plain": [
       "Array([[0., 0.],\n",
       "       [0., 0.]], dtype=float32)"
      ]
     },
     "execution_count": 29,
     "metadata": {},
     "output_type": "execute_result"
    }
   ],
   "source": [
    "dL_dK = dL_das.T @ Q\n",
    "dL_dW_K = conv_out @ dL_dK\n",
    "dL_dW_K"
   ]
  },
  {
   "cell_type": "code",
   "execution_count": 30,
   "metadata": {},
   "outputs": [
    {
     "data": {
      "text/plain": [
       "Array([[2., 2.],\n",
       "       [2., 2.]], dtype=float32)"
      ]
     },
     "execution_count": 30,
     "metadata": {},
     "output_type": "execute_result"
    }
   ],
   "source": [
    "dL_dQ = dL_das @ K\n",
    "dL_dW_Q = conv_out @ dL_dQ\n",
    "dL_dW_Q"
   ]
  },
  {
   "cell_type": "markdown",
   "metadata": {},
   "source": [
    "#### CNN"
   ]
  },
  {
   "cell_type": "code",
   "execution_count": 31,
   "metadata": {},
   "outputs": [
    {
     "data": {
      "text/plain": [
       "Array([[-1.5,  2. ],\n",
       "       [ 0.5,  0. ]], dtype=float32)"
      ]
     },
     "execution_count": 31,
     "metadata": {},
     "output_type": "execute_result"
    }
   ],
   "source": [
    "dL_dconv = dL_dQ @ W_Q.T + dL_dK @ W_K.T + dL_dV @ W_V.T\n",
    "dL_dconv"
   ]
  },
  {
   "cell_type": "code",
   "execution_count": 34,
   "metadata": {},
   "outputs": [],
   "source": [
    "dL_dK = jnp.zeros_like(K)\n",
    "output_size = 2\n",
    "filter_size = 2\n",
    "\n",
    "for i in range(output_size):\n",
    "    for j in range(output_size):\n",
    "        dL_dK += dL_dconv[i, j] * X[i:i+filter_size, j:j+filter_size]"
   ]
  },
  {
   "cell_type": "code",
   "execution_count": 37,
   "metadata": {},
   "outputs": [
    {
     "data": {
      "text/plain": [
       "Array([[ 2.5,  0.5],\n",
       "       [ 6.5, -0.5]], dtype=float32)"
      ]
     },
     "execution_count": 37,
     "metadata": {},
     "output_type": "execute_result"
    }
   ],
   "source": [
    "jax.scipy.signal.correlate2d(X, dL_dconv, 'valid')"
   ]
  },
  {
   "cell_type": "code",
   "execution_count": 35,
   "metadata": {},
   "outputs": [
    {
     "data": {
      "text/plain": [
       "Array([[ 2.5,  0.5],\n",
       "       [ 6.5, -0.5]], dtype=float32)"
      ]
     },
     "execution_count": 35,
     "metadata": {},
     "output_type": "execute_result"
    }
   ],
   "source": [
    "dL_dK"
   ]
  }
 ],
 "metadata": {
  "kernelspec": {
   "display_name": "ml",
   "language": "python",
   "name": "python3"
  },
  "language_info": {
   "codemirror_mode": {
    "name": "ipython",
    "version": 3
   },
   "file_extension": ".py",
   "mimetype": "text/x-python",
   "name": "python",
   "nbconvert_exporter": "python",
   "pygments_lexer": "ipython3",
   "version": "3.11.2"
  }
 },
 "nbformat": 4,
 "nbformat_minor": 2
}
